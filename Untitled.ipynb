{
 "cells": [
  {
   "cell_type": "code",
   "execution_count": 19,
   "id": "0f3a33da-54e4-43ef-a134-7d93693186c1",
   "metadata": {},
   "outputs": [],
   "source": [
    "import tensorflow as tf\n",
    "from tensorflow.keras.layers import Input, Dense, BatchNormalization, Lambda, Multiply, Add, LeakyReLU, Dropout, Conv2D, MaxPool2D, GlobalAveragePooling2D, Flatten, Conv2DTranspose\n",
    "import numpy as np"
   ]
  },
  {
   "cell_type": "code",
   "execution_count": 2,
   "id": "19ac5173-83fd-411b-9590-e2920ab52cd8",
   "metadata": {},
   "outputs": [],
   "source": [
    "class block(tf.keras.layers.Layer):\n",
    "    def __init__(self, channels, downsample = False, kernal_size = 3):\n",
    "        super(block, self).__init__()\n",
    "        self._channels = channels\n",
    "        self._strides = [2, 1] if downsample else [1, 1]\n",
    "        self._down_sample = downsample\n",
    "        kernal_init = tf.keras.initializers.he_normal()\n",
    "        self.conv_1 = Conv2D(self._channels, kernal_size, strides=self._strides[0], padding=\"same\", kernel_initializer= kernal_init)\n",
    "        self.bn_1 = BatchNormalization()\n",
    "        self.conv_2 = Conv2D(self._channels, kernal_size, strides=self._strides[1], padding=\"same\", kernel_initializer= kernal_init)\n",
    "        self.bn_2 = BatchNormalization()\n",
    "        self.merge = Lambda(lambda x : Add()([x[0], x[1]]), name= 'z')\n",
    "        if self._down_sample:\n",
    "            self.conv_ds = Conv2D(self._channels, (1,1), strides=2, padding=\"same\", kernel_initializer= kernal_init)\n",
    "            self.bn_ds = BatchNormalization()\n",
    "            \n",
    "    def call(self, inputs):\n",
    "        res = inputs\n",
    "        x = self.conv_1(inputs)\n",
    "        x = self.bn_1(x)\n",
    "        x = tf.nn.relu(x)\n",
    "        x = self.conv_2(x)\n",
    "        x = self.bn_2(x)\n",
    "        if self._down_sample:\n",
    "            res = self.conv_ds(res)\n",
    "            res = self.bn_ds(res)\n",
    "        x = self.merge([x, res])   #to avoide vanishing gradient and exploding gradient\n",
    "        out = tf.nn.relu(x)\n",
    "        return out"
   ]
  },
  {
   "cell_type": "code",
   "execution_count": 5,
   "id": "791212c5-cdfa-46f3-af2b-cec82d7c117d",
   "metadata": {},
   "outputs": [],
   "source": [
    "class ConvLeaky(tf.keras.layers.Layer):\n",
    "    def __init__(self, out_channels):\n",
    "        super(ConvLeaky, self).__init__()\n",
    "        kernel_size = 3\n",
    "        kernal_init = tf.keras.initializers.he_normal()\n",
    "        self.conv1 = Conv2D(out_channels, kernel_size, strides = 1, padding = 'same', kernel_initializer= kernal_init)\n",
    "        self.bn_1 = BatchNormalization()\n",
    "        self.conv2 = Conv2D(out_channels, kernel_size, strides = 1, padding = 'same', kernel_initializer= kernal_init)\n",
    "        self.bn_2 = BatchNormalization()\n",
    "    def call(self, inputs):\n",
    "        x = self.conv1(inputs)\n",
    "        x = self.bn_1(x)\n",
    "        x = tf.nn.leaky_relu(x)\n",
    "        x = self.conv2(x)\n",
    "        x = self.bn_2(x)\n",
    "        x = tf.nn.leaky_relu(x)\n",
    "        return x"
   ]
  },
  {
   "cell_type": "code",
   "execution_count": 147,
   "id": "520dd3ff-ca9f-40a0-a3e5-c3ecb00004c4",
   "metadata": {},
   "outputs": [],
   "source": [
    "class FNetBlock(tf.keras.layers.Layer):\n",
    "    def __init__(self, out_channels, typ):\n",
    "        super(FNetBlock, self).__init__()\n",
    "        self.convleaky = ConvLeaky(out_channels)\n",
    "        if typ == \"maxpool\":\n",
    "            self.out = Lambda(lambda x: tf.nn.max_pool2d(x, ksize=(2, 2), strides=(2, 2), padding=\"SAME\"))\n",
    "        elif typ == \"bilinear\":\n",
    "            self.out = tf.keras.layers.UpSampling2D(size=(2, 2), interpolation='bilinear')\n",
    "        else:\n",
    "            raise Exception('typ does not match')\n",
    "    \n",
    "    def call(self, inputs):\n",
    "        x = self.convleaky(inputs)\n",
    "        x = self.out(x)\n",
    "        return x\n"
   ]
  },
  {
   "cell_type": "code",
   "execution_count": 24,
   "id": "f476e30f-867b-49e2-8085-5a9c9651e5a1",
   "metadata": {},
   "outputs": [
    {
     "data": {
      "text/plain": [
       "TensorShape([1, 40, 40, 10])"
      ]
     },
     "execution_count": 24,
     "metadata": {},
     "output_type": "execute_result"
    }
   ],
   "source": [
    "#Testing FnetBlock\n",
    "l = FnetBlock(10, \"bilinear\")\n",
    "a = np.ones((1, 20, 20, 3))\n",
    "l(a).shape"
   ]
  },
  {
   "cell_type": "code",
   "execution_count": 125,
   "id": "c4e18251-9fe9-4119-84cf-8fc6c4edfe02",
   "metadata": {},
   "outputs": [],
   "source": [
    "class SRNet(tf.keras.Model):\n",
    "    def __init__(self):\n",
    "        super(SRNet, self).__init__()\n",
    "        kernel_size = 3\n",
    "        kernal_init = tf.keras.initializers.he_normal()\n",
    "        self.conv_in = Conv2D(64, kernel_size, strides = 1, padding = 'same', kernel_initializer= kernal_init)\n",
    "        self.resBlock = tf.keras.Sequential([block(64) for i in range(0, 10)])\n",
    "        self.deconv1 = Conv2DTranspose(64, kernel_size, strides=(2, 2), padding = 'same')\n",
    "        self.deconv2 = Conv2DTranspose(64, kernel_size, strides=(2, 2), padding = 'valid', output_padding = 1)\n",
    "        self.out_conv = Conv2D(3, kernel_size)\n",
    "        \n",
    "    def call(self, inputs):\n",
    "        x = self.conv_in(inputs)\n",
    "        x = self.resBlock(x)\n",
    "        x = self.deconv1(x)\n",
    "        x = tf.nn.relu(x)\n",
    "        x = self.deconv2(x)\n",
    "        x = tf.nn.relu(x)\n",
    "        x = self.out_conv(x)\n",
    "        return x"
   ]
  },
  {
   "cell_type": "code",
   "execution_count": 127,
   "id": "de51db2d-780b-4fef-9bd0-dcdbbf668f60",
   "metadata": {},
   "outputs": [
    {
     "data": {
      "text/plain": [
       "TensorShape([1, 80, 80, 3])"
      ]
     },
     "execution_count": 127,
     "metadata": {},
     "output_type": "execute_result"
    }
   ],
   "source": [
    "#SRNet testing\n",
    "m = SRNet()\n",
    "i = np.ones((1, 20, 20, 3))\n",
    "m(i).shape"
   ]
  },
  {
   "cell_type": "code",
   "execution_count": 128,
   "id": "a4c9aefe-99f2-4081-8b8e-fa45f89ef195",
   "metadata": {},
   "outputs": [
    {
     "name": "stdout",
     "output_type": "stream",
     "text": [
      "Model: \"sr_net_34\"\n",
      "_________________________________________________________________\n",
      " Layer (type)                Output Shape              Param #   \n",
      "=================================================================\n",
      " conv2d_866 (Conv2D)         multiple                  1792      \n",
      "                                                                 \n",
      " sequential_37 (Sequential)  (1, 20, 20, 64)           743680    \n",
      "                                                                 \n",
      " conv2d_transpose_65 (Conv2D  multiple                 36928     \n",
      " Transpose)                                                      \n",
      "                                                                 \n",
      " conv2d_transpose_66 (Conv2D  multiple                 36928     \n",
      " Transpose)                                                      \n",
      "                                                                 \n",
      " conv2d_887 (Conv2D)         multiple                  1731      \n",
      "                                                                 \n",
      "=================================================================\n",
      "Total params: 821,059\n",
      "Trainable params: 818,499\n",
      "Non-trainable params: 2,560\n",
      "_________________________________________________________________\n"
     ]
    }
   ],
   "source": [
    "m.summary()"
   ]
  },
  {
   "cell_type": "code",
   "execution_count": 157,
   "id": "16c6a527-9f6a-474a-ab5f-1e6705bb7957",
   "metadata": {},
   "outputs": [],
   "source": [
    "class FNet(tf.keras.Model):\n",
    "    def __init__(self):\n",
    "        super(FNet, self).__init__()\n",
    "        #input dim = 6\n",
    "        kernel_size = 3\n",
    "        kernal_init = tf.keras.initializers.he_normal()\n",
    "        self.convpool_1 = FNetBlock(32, \"maxpool\")\n",
    "        self.convpool_2 = FNetBlock(64, \"maxpool\")\n",
    "        self.convpool_3 = FNetBlock(128, \"maxpool\")\n",
    "        self.convbin_1 = FNetBlock(256, \"bilinear\")\n",
    "        self.convbin_2 = FNetBlock(128, \"bilinear\")\n",
    "        self.convbin_3 = FNetBlock(64, \"bilinear\")\n",
    "        self.conv1 = Conv2D(32, kernel_size = 3, strides = 1, padding = 'same', kernel_initializer= kernal_init)\n",
    "        self.conv2 = Conv2D(2, kernel_size = 3, strides = 1, padding = 'same', kernel_initializer= kernal_init)\n",
    "    def call(self, inputs):\n",
    "        x = self.convpool_1(inputs)\n",
    "        x = self.convpool_2(x)\n",
    "        x = self.convpool_3(x)\n",
    "        x = self.convbin_1(x)\n",
    "        x = self.convbin_2(x)\n",
    "        x = self.convbin_3(x)\n",
    "        x = self.conv1(x)\n",
    "        x = tf.nn.leaky_relu(x)\n",
    "        x = self.conv2(x)\n",
    "        x = tf.nn.tanh(x)\n",
    "        self.x = x\n",
    "        return x"
   ]
  },
  {
   "cell_type": "code",
   "execution_count": 159,
   "id": "45adfc49-1c7a-4e46-b967-401a7a190be2",
   "metadata": {},
   "outputs": [
    {
     "data": {
      "text/plain": [
       "TensorShape([1, 40, 40, 2])"
      ]
     },
     "execution_count": 159,
     "metadata": {},
     "output_type": "execute_result"
    }
   ],
   "source": [
    "#FNet test\n",
    "f = FNet()\n",
    "x = np.ones((1, 40, 40, 6))\n",
    "x = f(x)\n",
    "x.shape"
   ]
  },
  {
   "cell_type": "code",
   "execution_count": 140,
   "id": "9aaeb378-a5ae-4ea3-ac01-ac5a0b2eee64",
   "metadata": {},
   "outputs": [
    {
     "data": {
      "text/plain": [
       "TensorShape([1, 16, 16, 2])"
      ]
     },
     "execution_count": 140,
     "metadata": {},
     "output_type": "execute_result"
    }
   ],
   "source": [
    "class SpaceToDepth(tf.keras.Model)"
   ]
  },
  {
   "cell_type": "code",
   "execution_count": null,
   "id": "619d4414-ac4c-49c6-a93b-09da42c7a222",
   "metadata": {},
   "outputs": [],
   "source": []
  }
 ],
 "metadata": {
  "kernelspec": {
   "display_name": "Python 3 (ipykernel)",
   "language": "python",
   "name": "python3"
  },
  "language_info": {
   "codemirror_mode": {
    "name": "ipython",
    "version": 3
   },
   "file_extension": ".py",
   "mimetype": "text/x-python",
   "name": "python",
   "nbconvert_exporter": "python",
   "pygments_lexer": "ipython3",
   "version": "3.8.10"
  }
 },
 "nbformat": 4,
 "nbformat_minor": 5
}
